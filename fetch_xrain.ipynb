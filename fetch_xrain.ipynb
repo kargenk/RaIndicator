{
 "cells": [
  {
   "cell_type": "code",
   "execution_count": 1,
   "metadata": {},
   "outputs": [],
   "source": [
    "#!/usr/bin/env python3\n",
    "# coding: utf-8"
   ]
  },
  {
   "cell_type": "code",
   "execution_count": 2,
   "metadata": {},
   "outputs": [],
   "source": [
    "from selenium import webdriver\n",
    "from selenium.webdriver.chrome.options import Options\n",
    "import matplotlib.pyplot as plt\n",
    "import numpy as np\n",
    "import base64"
   ]
  },
  {
   "cell_type": "code",
   "execution_count": 3,
   "metadata": {},
   "outputs": [],
   "source": [
    "def fetch_image(longitude, latitude):\n",
    "    options = Options()\n",
    "    \n",
    "    # Headlessモード(バックグラウンドでの起動)を有効にする\n",
    "    options.set_headless(True)\n",
    "    \n",
    "    # ブラウザの起動\n",
    "    driver = webdriver.Chrome(\"./chromedriver.exe\", chrome_options=options)\n",
    "    \n",
    "    # ブラウザでXRAINレーダー雨量画面GIS版を表示\n",
    "    driver.get(\"http://www.river.go.jp/x/krd0107010.php?\" +\n",
    "              \"lon=\" + longitude +\n",
    "              \"&lat=\" + latitude +\n",
    "              \"&opa=0&zoom=12&leg=0&ext=0\")\n",
    "    \n",
    "    # レーダー雨量画像が表示される領域であるcanvasを取得\n",
    "    canvas = driver.find_element_by_css_selector('#mp-rador > div > canvas')\n",
    "    \n",
    "    # canvasをPNGのbase64データを取得\n",
    "    canvas_base64 = driver.execute_script(\"return arguments[0].toDataURL('image/png').substring(21);\", canvas)\n",
    "\n",
    "    # デコード\n",
    "    canvas_png = base64.b64decode(canvas_base64)\n",
    "\n",
    "    # png形式で画像を保存\n",
    "    with open(\"./img/canvas.png\", 'wb') as f:\n",
    "        f.write(canvas_png)\n",
    "\n",
    "    # ブラウザを終了(全てのタブを閉じる)\n",
    "    driver.quit()"
   ]
  },
  {
   "cell_type": "code",
   "execution_count": null,
   "metadata": {},
   "outputs": [],
   "source": []
  }
 ],
 "metadata": {
  "kernelspec": {
   "display_name": "Python 3",
   "language": "python",
   "name": "python3"
  },
  "language_info": {
   "codemirror_mode": {
    "name": "ipython",
    "version": 3
   },
   "file_extension": ".py",
   "mimetype": "text/x-python",
   "name": "python",
   "nbconvert_exporter": "python",
   "pygments_lexer": "ipython3",
   "version": "3.5.5"
  },
  "widgets": {
   "state": {},
   "version": "1.1.2"
  }
 },
 "nbformat": 4,
 "nbformat_minor": 2
}
